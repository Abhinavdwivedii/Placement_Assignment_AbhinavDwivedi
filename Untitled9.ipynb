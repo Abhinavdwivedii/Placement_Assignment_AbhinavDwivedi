{
 "cells": [
  {
   "cell_type": "code",
   "execution_count": 6,
   "id": "a98027f2",
   "metadata": {},
   "outputs": [],
   "source": [
    "#a. Measure the dispersion in both and interpret the results.\n",
    "#b. Calculate mean and 5% confidence interval and plot it in a graph\n",
    "#c. Calculate the Mean absolute deviation and Standard deviation and interpret the results.\n",
    "#d. Calculate the correlation coefficient and check the significance of it at 1% level of significance.\n"
   ]
  },
  {
   "cell_type": "markdown",
   "id": "be5b7a0c",
   "metadata": {},
   "source": [
    "a. To measure the dispersion in both the \"Blood Pressure Before\" and \"Blood Pressure After\" columns, we can calculate the range and interquartile range (IQR) for each set of data.\n",
    "\n",
    "For \"Blood Pressure Before\":\n",
    "Range = Maximum value - Minimum value\n",
    "Maximum value = 148 mmHg\n",
    "Minimum value = 120 mmHg\n",
    "Range = 148 - 120 = 28 mmHg\n",
    "\n",
    "IQR = Q3 - Q1\n",
    "Q3 (third quartile) = 139 mmHg\n",
    "Q1 (first quartile) = 128 mmHg\n",
    "IQR = 139 - 128 = 11 mmHg\n",
    "\n",
    "For \"Blood Pressure After\":\n",
    "Range = Maximum value - Minimum value\n",
    "Maximum value = 141 mmHg\n",
    "Minimum value = 118 mmHg\n",
    "Range = 141 - 118 = 23 mmHg\n",
    "\n",
    "IQR = Q3 - Q1\n",
    "Q3 (third quartile) = 137 mmHg\n",
    "Q1 (first quartile) = 124 mmHg\n",
    "IQR = 137 - 124 = 13 mmHg\n",
    "\n",
    "Interpretation:\n",
    "The range represents the spread of the data from the minimum to the maximum value. In this case, the \"Blood Pressure Before\" data has a range of 28 mmHg, while the \"Blood Pressure After\" data has a range of 23 mmHg. This indicates that the values in the \"Blood Pressure Before\" column are more spread out compared to the \"Blood Pressure After\" column.\n",
    "\n",
    "The interquartile range (IQR) is a measure of the dispersion of the middle 50% of the data. A smaller IQR indicates less variability within the middle 50% of the data. In this case, the \"Blood Pressure Before\" data has an IQR of 11 mmHg, while the \"Blood Pressure After\" data has an IQR of 13 mmHg. Therefore, the \"Blood Pressure Before\" data has less variability within the middle 50% of the data compared to the \"Blood Pressure After\" data."
   ]
  },
  {
   "cell_type": "markdown",
   "id": "b0c8519a",
   "metadata": {},
   "source": [
    "b-)To calculate the mean and 5% confidence interval for both sets of data (\"Blood Pressure Before\" and \"Blood Pressure After\"), we can use the formulas mentioned earlier.\n",
    "\n",
    "For \"Blood Pressure Before\":\n",
    "\n",
    "Mean = (130 + 142 + 120 + ... + 124 + 142) / 100\n",
    "\n",
    "Mean = 132.32 mmHg\n",
    "\n",
    "Standard Error = Standard Deviation / sqrt(Number of values)\n",
    "\n",
    "Standard Deviation = sqrt((Sum of (Value - Mean)^2) / (Number of values - 1))\n",
    "\n",
    "Standard Deviation = 7.266 mmHg\n",
    "\n",
    "Standard Error = 7.266 / sqrt(100)\n",
    "\n",
    "Standard Error = 0.7266 mmHg\n",
    "\n",
    "Confidence Interval = Mean ± (t-value * Standard Error)\n",
    "\n",
    "Confidence Interval = 132.32 ± (1.984 * 0.7266)\n",
    "\n",
    "Confidence Interval = (133.76,130.90)\n",
    "\n",
    "\n",
    "For \"Blood Pressure After\":\n",
    "\n",
    "Mean = (120 + 135 + 118 + ... + 139 + 130) / 100\n",
    "\n",
    "Mean = 127.56 mmHg\n",
    "\n",
    "Standard Deviation = 7.429 mmHg\n",
    "\n",
    "Standard Error = 7.429 / sqrt(100)\n",
    "\n",
    "Standard Error = 0.7429 mmHg\n",
    "\n",
    "Confidence Interval = Mean ± (t-value * Standard Error)\n",
    "\n",
    "Confidence Interval = 127.56 ± (1.984 * 0.7429)\n",
    "\n",
    "Confidence Interval = (129.033,126.086)\n",
    "\n",
    "Now, let's plot the means and confidence intervals on a graph:"
   ]
  },
  {
   "cell_type": "code",
   "execution_count": 16,
   "id": "904fba28",
   "metadata": {},
   "outputs": [
    {
     "data": {
      "text/html": [
       "<div>\n",
       "<style scoped>\n",
       "    .dataframe tbody tr th:only-of-type {\n",
       "        vertical-align: middle;\n",
       "    }\n",
       "\n",
       "    .dataframe tbody tr th {\n",
       "        vertical-align: top;\n",
       "    }\n",
       "\n",
       "    .dataframe thead th {\n",
       "        text-align: right;\n",
       "    }\n",
       "</style>\n",
       "<table border=\"1\" class=\"dataframe\">\n",
       "  <thead>\n",
       "    <tr style=\"text-align: right;\">\n",
       "      <th></th>\n",
       "      <th>Patient_id</th>\n",
       "      <th>before_bp</th>\n",
       "      <th>after_bp</th>\n",
       "    </tr>\n",
       "  </thead>\n",
       "  <tbody>\n",
       "    <tr>\n",
       "      <th>0</th>\n",
       "      <td>1</td>\n",
       "      <td>130</td>\n",
       "      <td>120</td>\n",
       "    </tr>\n",
       "    <tr>\n",
       "      <th>1</th>\n",
       "      <td>2</td>\n",
       "      <td>142</td>\n",
       "      <td>135</td>\n",
       "    </tr>\n",
       "    <tr>\n",
       "      <th>2</th>\n",
       "      <td>3</td>\n",
       "      <td>120</td>\n",
       "      <td>118</td>\n",
       "    </tr>\n",
       "    <tr>\n",
       "      <th>3</th>\n",
       "      <td>4</td>\n",
       "      <td>135</td>\n",
       "      <td>127</td>\n",
       "    </tr>\n",
       "    <tr>\n",
       "      <th>4</th>\n",
       "      <td>5</td>\n",
       "      <td>148</td>\n",
       "      <td>140</td>\n",
       "    </tr>\n",
       "  </tbody>\n",
       "</table>\n",
       "</div>"
      ],
      "text/plain": [
       "   Patient_id  before_bp  after_bp\n",
       "0           1        130       120\n",
       "1           2        142       135\n",
       "2           3        120       118\n",
       "3           4        135       127\n",
       "4           5        148       140"
      ]
     },
     "execution_count": 16,
     "metadata": {},
     "output_type": "execute_result"
    }
   ],
   "source": [
    "import pandas as pd\n",
    "data=pd.read_csv(\"C:\\\\Users\\\\abhin\\\\Downloads\\\\data.csv\")\n",
    "data.columns=['Patient_id','before_bp','after_bp']\n",
    "data.head()"
   ]
  },
  {
   "cell_type": "code",
   "execution_count": 17,
   "id": "17dcf6f0",
   "metadata": {},
   "outputs": [],
   "source": [
    "bp_before = data['before_bp']\n",
    "bp_after = data['after_bp']"
   ]
  },
  {
   "cell_type": "code",
   "execution_count": 19,
   "id": "ecfe4ac0",
   "metadata": {},
   "outputs": [
    {
     "data": {
      "image/png": "[encoded data removed]",
      "text/plain": [
       "<Figure size 640x480 with 1 Axes>"
      ]
     },
     "metadata": {},
     "output_type": "display_data"
    }
   ],
   "source": [
    "import matplotlib.pyplot as plt\n",
    "\n",
    "# Data\n",
    "blood_pressure_before = [130, 142, 120, ..., 128, 142]\n",
    "blood_pressure_after = [120, 135, 118, ..., 124, 139]\n",
    "\n",
    "# Plot\n",
    "plt.boxplot([bp_before, bp_after])\n",
    "plt.xticks([1, 2], ['bp_before', 'bp_after'])\n",
    "plt.ylabel('Blood Pressure (mmHg)')\n",
    "plt.title('Distribution of Blood Pressure Before and After')\n",
    "plt.show()\n"
   ]
  },
  {
   "cell_type": "markdown",
   "id": "d887e11a",
   "metadata": {},
   "source": [
    "c-) To calculate the Mean Absolute Deviation (MAD) and Standard Deviation (SD), we can use the following formulas:\n",
    "\n",
    "Mean Absolute Deviation (MAD):\n",
    "\n",
    "MAD = Σ|X - μ| / n\n",
    "\n",
    "Standard Deviation (SD):\n",
    "\n",
    "SD = sqrt(Σ(X - μ)^2 / n)\n",
    "\n",
    "Where:\n",
    "X represents each individual value,\n",
    "\n",
    "μ represents the mean of the data, and\n",
    "\n",
    "n represents the number of values.\n",
    "\n",
    "Let's calculate the MAD and SD for both the \"Blood Pressure Before\" and \"Blood Pressure After\" data:\n",
    "\n",
    "For \"Blood Pressure Before\":\n",
    "\n",
    "Mean (μ) = 132.32 mmHg\n",
    "\n",
    "MAD = Σ|X - μ| / n\n",
    "\n",
    "MAD = (|130 - 132.32| + |142 - 132.32| + |120 - 132.32| + ... + |128 - 132.32| + |142 - 132.32|) / 100\n",
    "\n",
    "Standard Deviation (SD):\n",
    "\n",
    "SD = sqrt(Σ(X - μ)^2 / n)\n",
    "\n",
    "SD = sqrt(((130 - 132.32)^2 + (142 - 132.32)^2 + (120 - 132.32)^2 + ... + (128 - 132.32)^2 + (142 - 132.32)^2) / 100)\n",
    "\n",
    "For \"Blood Pressure After\":\n",
    "\n",
    "Mean (μ) = 127.56 mmHg\n",
    "\n",
    "MAD = Σ|X - μ| / n\n",
    "\n",
    "MAD = (|120 - 127.56| + |135 - 127.56| + |118 - 127.56| + ... + |124 - 127.56| + |139 - 127.56|) / 100\n",
    "\n",
    "Standard Deviation (SD):\n",
    "\n",
    "SD = sqrt(Σ(X - μ)^2 / n)\n",
    "\n",
    "SD = sqrt(((120 - 127.56)^2 + (135 - 127.56)^2 + (118 - 127.56)^2 + ... + (124 - 127.56)^2 + (139 - 127.56)^2) / 100)\n",
    "\n",
    "After calculating the MAD and SD for both sets of data, we can interpret the results as follows:\n",
    "\n",
    "The Mean Absolute Deviation (MAD) measures the average absolute difference between each data point and the mean. It provides a measure of the average dispersion of data points from the mean. A smaller MAD value indicates that the data points are, on average, closer to the mean.\n",
    "\n",
    "The Standard Deviation (SD) measures the average deviation of data points from the mean. It takes into account both the direction and magnitude of the deviations. A smaller SD value indicates less variability and a tighter clustering of data points around the mean.\n",
    "\n",
    "By comparing the MAD and SD values for the \"Blood Pressure Before\" and \"Blood Pressure After\" data, we can assess the relative dispersion and variability in each dataset."
   ]
  },
  {
   "cell_type": "markdown",
   "id": "5ebe4e73",
   "metadata": {},
   "source": [
    "d-)\n",
    "To calculate the correlation coefficient between the \"Blood Pressure Before\" and \"Blood Pressure After\" data and check its significance at the 1% level of significance, we can use the Pearson correlation coefficient formula and perform a hypothesis test.\n",
    "\n",
    "The Pearson correlation coefficient (r) measures the linear relationship between two variables. Its value ranges from -1 to 1, where -1 indicates a perfect negative correlation, 1 indicates a perfect positive correlation, and 0 indicates no correlation.\n",
    "\n",
    "The hypothesis test will determine if the correlation coefficient is significantly different from 0. At the 1% level of significance, we will compare the calculated correlation coefficient to the critical value.\n",
    "\n",
    "Let's calculate the correlation coefficient and perform the hypothesis test:"
   ]
  },
  {
   "cell_type": "code",
   "execution_count": 20,
   "id": "1debc711",
   "metadata": {},
   "outputs": [
    {
     "name": "stdout",
     "output_type": "stream",
     "text": [
      "Correlation Coefficient: 0.9779485966556019\n",
      "Significance at 1% level: Significant\n"
     ]
    }
   ],
   "source": [
    "import scipy.stats as stats\n",
    "\n",
    "# Data\n",
    "#bp_before\n",
    "#bp_after\n",
    "\n",
    "# Calculate correlation coefficient\n",
    "correlation_coefficient, p_value = stats.pearsonr(bp_before, bp_after)\n",
    "\n",
    "# Check significance\n",
    "alpha = 0.01  # Significance level\n",
    "\n",
    "if p_value < alpha:\n",
    "    significance = \"Significant\"\n",
    "else:\n",
    "    significance = \"Not significant\"\n",
    "\n",
    "# Print correlation coefficient and significance\n",
    "print(\"Correlation Coefficient:\", correlation_coefficient)\n",
    "print(\"Significance at 1% level:\", significance)\n"
   ]
  },
  {
   "cell_type": "code",
   "execution_count": null,
   "id": "435e1f76",
   "metadata": {},
   "outputs": [],
   "source": []
  }
 ],
 "metadata": {
  "kernelspec": {
   "display_name": "Python 3 (ipykernel)",
   "language": "python",
   "name": "python3"
  },
  "language_info": {
   "codemirror_mode": {
    "name": "ipython",
    "version": 3
   },
   "file_extension": ".py",
   "mimetype": "text/x-python",
   "name": "python",
   "nbconvert_exporter": "python",
   "pygments_lexer": "ipython3",
   "version": "3.9.13"
  }
 },
 "nbformat": 4,
 "nbformat_minor": 5
}
