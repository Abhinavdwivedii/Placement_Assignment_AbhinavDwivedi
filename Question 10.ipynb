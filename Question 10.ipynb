{
 "cells": [
  {
   "cell_type": "code",
   "execution_count": 1,
   "id": "7da25255",
   "metadata": {},
   "outputs": [
    {
     "name": "stdout",
     "output_type": "stream",
     "text": [
      "Probability of exactly 20 bulbs being defective: 0.051616192536641056\n",
      "Probability of at least 10 bulbs being defective: 0.9998316463654902\n",
      "Probability of at most 15 bulbs being defective: 0.01985837716300623\n",
      "Expected number of defective bulbs: 25.0\n"
     ]
    }
   ],
   "source": [
    "from scipy.stats import binom\n",
    "\n",
    "# Constants\n",
    "n = 500  # Total number of bulbs\n",
    "p = 0.05  # Probability of a bulb being defective\n",
    "\n",
    "# a. Probability that exactly 20 bulbs are defective\n",
    "prob_20_defective = binom.pmf(20, n, p)\n",
    "print(\"Probability of exactly 20 bulbs being defective:\", prob_20_defective)\n",
    "\n",
    "# b. Probability that at least 10 bulbs are defective\n",
    "prob_at_least_10_defective = 1 - binom.cdf(9, n, p)\n",
    "print(\"Probability of at least 10 bulbs being defective:\", prob_at_least_10_defective)\n",
    "\n",
    "# c. Probability that at most 15 bulbs are defective\n",
    "prob_at_most_15_defective = binom.cdf(15, n, p)\n",
    "print(\"Probability of at most 15 bulbs being defective:\", prob_at_most_15_defective)\n",
    "\n",
    "# d. Expected number of defective bulbs\n",
    "expected_defective_bulbs = n * p\n",
    "print(\"Expected number of defective bulbs:\", expected_defective_bulbs)\n"
   ]
  },
  {
   "cell_type": "code",
   "execution_count": null,
   "id": "5a6eba26",
   "metadata": {},
   "outputs": [],
   "source": []
  }
 ],
 "metadata": {
  "kernelspec": {
   "display_name": "Python 3 (ipykernel)",
   "language": "python",
   "name": "python3"
  },
  "language_info": {
   "codemirror_mode": {
    "name": "ipython",
    "version": 3
   },
   "file_extension": ".py",
   "mimetype": "text/x-python",
   "name": "python",
   "nbconvert_exporter": "python",
   "pygments_lexer": "ipython3",
   "version": "3.9.13"
  }
 },
 "nbformat": 4,
 "nbformat_minor": 5
}
